{
 "cells": [
  {
   "cell_type": "code",
   "execution_count": null,
   "id": "7e835e9a",
   "metadata": {},
   "outputs": [],
   "source": [
    "#import the libraries\n",
    "\n",
    "import numpy as np\n",
    "import matplotlib.pyplot as plt \n",
    "import pandas as pd\n",
    "import sklearn\n"
   ]
  },
  {
   "cell_type": "code",
   "execution_count": null,
   "id": "830b3066",
   "metadata": {},
   "outputs": [],
   "source": [
    "dataset= pd.read_csv('insurance_pre.csv')"
   ]
  },
  {
   "cell_type": "code",
   "execution_count": null,
   "id": "63ab4e0b",
   "metadata": {},
   "outputs": [],
   "source": [
    "dataset"
   ]
  },
  {
   "cell_type": "code",
   "execution_count": null,
   "id": "153f9b07",
   "metadata": {},
   "outputs": [],
   "source": [
    "dataset= pd.get_dummies(dataset,drop_first=True)"
   ]
  },
  {
   "cell_type": "code",
   "execution_count": null,
   "id": "612ef319",
   "metadata": {},
   "outputs": [],
   "source": [
    "dataset"
   ]
  },
  {
   "cell_type": "code",
   "execution_count": null,
   "id": "13f47230",
   "metadata": {},
   "outputs": [],
   "source": [
    "indep=dataset[['age', 'bmi','children','sex_male','smoker_yes',]]\n",
    "dep=dataset['charges']"
   ]
  },
  {
   "cell_type": "raw",
   "id": "20a8ffe5",
   "metadata": {},
   "source": []
  },
  {
   "cell_type": "code",
   "execution_count": null,
   "id": "ff583c18",
   "metadata": {},
   "outputs": [],
   "source": []
  },
  {
   "cell_type": "code",
   "execution_count": null,
   "id": "24dc1404",
   "metadata": {},
   "outputs": [],
   "source": []
  },
  {
   "cell_type": "code",
   "execution_count": null,
   "id": "c9af925b",
   "metadata": {},
   "outputs": [],
   "source": [
    "from sklearn.model_selection import  GridSearchCV\n",
    "from sklearn.svm import SVR \n",
    "param_grid = {'kernel':['rbf', 'poly', 'sigmoid', 'linear'],'C':[10,100,1000,2000,30000],'gamma':['auto', 'scale']}\n",
    "\n",
    "grid = GridSearchCV(SVR(), param_grid, refit = True , verbose = 3, n_jobs=-1)\n",
    "\n",
    "#fitting the model for grid\n",
    "\n",
    "grid.fit(indep , dep)"
   ]
  },
  {
   "cell_type": "code",
   "execution_count": null,
   "id": "378a02c4",
   "metadata": {},
   "outputs": [],
   "source": [
    "# print the best parameter after tuning \n",
    "#print (grid.best_params)\n",
    "\n",
    "re = grid.cv_results_\n",
    " \n",
    "print(\"the R_score value for best parameter {}:\".format(grid.best_params_))"
   ]
  },
  {
   "cell_type": "code",
   "execution_count": null,
   "id": "8ec8acb3",
   "metadata": {},
   "outputs": [],
   "source": [
    "table=pd.DataFrame.from_dict(re)\n",
    "table"
   ]
  },
  {
   "cell_type": "code",
   "execution_count": null,
   "id": "0fb18bd6",
   "metadata": {},
   "outputs": [],
   "source": [
    "age_input = float(input(\"Age:\"))\n",
    "bmi_input = float(input(\"BMI:\"))\n",
    "children_input = float(input(\"children:\"))\n",
    "sex_male_input = int(input(\"sex Male 0 or 1:\"))\n",
    "smoker_yes_input=int(input(\"smoker yes 0 or 1:\"))"
   ]
  },
  {
   "cell_type": "code",
   "execution_count": null,
   "id": "b682830c",
   "metadata": {},
   "outputs": [],
   "source": []
  },
  {
   "cell_type": "code",
   "execution_count": null,
   "id": "8d39464f",
   "metadata": {},
   "outputs": [],
   "source": [
    "Future_Prediction=grid.predict([[age_input,bmi_input,children_input,sex_male_input,smoker_yes_input]])#␣\n",
    "#change and find it\n",
    "print(\"Future_Prediction={}\".format(Future_Prediction))"
   ]
  },
  {
   "cell_type": "code",
   "execution_count": null,
   "id": "4c6f1c44",
   "metadata": {},
   "outputs": [],
   "source": []
  },
  {
   "cell_type": "code",
   "execution_count": null,
   "id": "9d004a27",
   "metadata": {},
   "outputs": [],
   "source": []
  },
  {
   "cell_type": "code",
   "execution_count": null,
   "id": "efb54bb1",
   "metadata": {},
   "outputs": [],
   "source": []
  }
 ],
 "metadata": {
  "kernelspec": {
   "display_name": "Python 3 (ipykernel)",
   "language": "python",
   "name": "python3"
  },
  "language_info": {
   "codemirror_mode": {
    "name": "ipython",
    "version": 3
   },
   "file_extension": ".py",
   "mimetype": "text/x-python",
   "name": "python",
   "nbconvert_exporter": "python",
   "pygments_lexer": "ipython3",
   "version": "3.11.5"
  }
 },
 "nbformat": 4,
 "nbformat_minor": 5
}
