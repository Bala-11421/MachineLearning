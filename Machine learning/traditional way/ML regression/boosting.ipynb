{
 "cells": [
  {
   "cell_type": "code",
   "execution_count": 1,
   "id": "9e389184",
   "metadata": {},
   "outputs": [],
   "source": [
    "\n"
   ]
  },
  {
   "cell_type": "code",
   "execution_count": 3,
   "id": "392265ff",
   "metadata": {},
   "outputs": [
    {
     "name": "stderr",
     "output_type": "stream",
     "text": [
      "ERROR: Could not find a version that satisfies the requirement adaboost (from versions: none)\n",
      "ERROR: No matching distribution found for adaboost\n"
     ]
    }
   ],
   "source": [
    "!pip install adaboost"
   ]
  },
  {
   "cell_type": "code",
   "execution_count": 4,
   "id": "9d5ce1d5",
   "metadata": {},
   "outputs": [
    {
     "name": "stderr",
     "output_type": "stream",
     "text": [
      "ERROR: Could not find a version that satisfies the requirement LGboost (from versions: none)\n",
      "ERROR: No matching distribution found for LGboost\n"
     ]
    }
   ],
   "source": [
    "!pip install LGboost"
   ]
  },
  {
   "cell_type": "code",
   "execution_count": 5,
   "id": "5bbfe2eb",
   "metadata": {},
   "outputs": [
    {
     "name": "stdout",
     "output_type": "stream",
     "text": [
      "Collecting lightgbm\n",
      "  Obtaining dependency information for lightgbm from https://files.pythonhosted.org/packages/d9/28/3be76b591a2e14a031b681b8283acf1dec2ad521f6f1701b7957df68c466/lightgbm-4.5.0-py3-none-win_amd64.whl.metadata\n",
      "  Downloading lightgbm-4.5.0-py3-none-win_amd64.whl.metadata (17 kB)\n",
      "Requirement already satisfied: numpy>=1.17.0 in c:\\users\\balaj\\anaconda3\\lib\\site-packages (from lightgbm) (1.24.3)\n",
      "Requirement already satisfied: scipy in c:\\users\\balaj\\anaconda3\\lib\\site-packages (from lightgbm) (1.11.1)\n",
      "Downloading lightgbm-4.5.0-py3-none-win_amd64.whl (1.4 MB)\n",
      "   ---------------------------------------- 0.0/1.4 MB ? eta -:--:--\n",
      "   ---------------------------------------- 0.0/1.4 MB ? eta -:--:--\n",
      "   - -------------------------------------- 0.0/1.4 MB 653.6 kB/s eta 0:00:03\n",
      "   -- ------------------------------------- 0.1/1.4 MB 762.6 kB/s eta 0:00:02\n",
      "   --- ------------------------------------ 0.1/1.4 MB 1.1 MB/s eta 0:00:02\n",
      "   ----- ---------------------------------- 0.2/1.4 MB 1.2 MB/s eta 0:00:01\n",
      "   ------- -------------------------------- 0.3/1.4 MB 1.1 MB/s eta 0:00:02\n",
      "   --------- ------------------------------ 0.3/1.4 MB 1.2 MB/s eta 0:00:01\n",
      "   ----------- ---------------------------- 0.4/1.4 MB 1.3 MB/s eta 0:00:01\n",
      "   ------------- -------------------------- 0.5/1.4 MB 1.3 MB/s eta 0:00:01\n",
      "   ------------- -------------------------- 0.5/1.4 MB 1.3 MB/s eta 0:00:01\n",
      "   ----------------- ---------------------- 0.6/1.4 MB 1.4 MB/s eta 0:00:01\n",
      "   ------------------- -------------------- 0.7/1.4 MB 1.3 MB/s eta 0:00:01\n",
      "   ------------------- -------------------- 0.7/1.4 MB 1.3 MB/s eta 0:00:01\n",
      "   ------------------------ --------------- 0.9/1.4 MB 1.4 MB/s eta 0:00:01\n",
      "   ------------------------- -------------- 0.9/1.4 MB 1.4 MB/s eta 0:00:01\n",
      "   ---------------------------- ----------- 1.0/1.4 MB 1.5 MB/s eta 0:00:01\n",
      "   ------------------------------- -------- 1.1/1.4 MB 1.5 MB/s eta 0:00:01\n",
      "   --------------------------------- ------ 1.2/1.4 MB 1.6 MB/s eta 0:00:01\n",
      "   --------------------------------- ------ 1.2/1.4 MB 1.6 MB/s eta 0:00:01\n",
      "   ------------------------------------- -- 1.4/1.4 MB 1.5 MB/s eta 0:00:01\n",
      "   ---------------------------------------- 1.4/1.4 MB 1.5 MB/s eta 0:00:00\n",
      "Installing collected packages: lightgbm\n",
      "Successfully installed lightgbm-4.5.0\n"
     ]
    }
   ],
   "source": [
    "!pip install lightgbm\n"
   ]
  },
  {
   "cell_type": "code",
   "execution_count": null,
   "id": "fafb971d",
   "metadata": {},
   "outputs": [],
   "source": []
  }
 ],
 "metadata": {
  "kernelspec": {
   "display_name": "Python 3 (ipykernel)",
   "language": "python",
   "name": "python3"
  },
  "language_info": {
   "codemirror_mode": {
    "name": "ipython",
    "version": 3
   },
   "file_extension": ".py",
   "mimetype": "text/x-python",
   "name": "python",
   "nbconvert_exporter": "python",
   "pygments_lexer": "ipython3",
   "version": "3.11.5"
  }
 },
 "nbformat": 4,
 "nbformat_minor": 5
}
