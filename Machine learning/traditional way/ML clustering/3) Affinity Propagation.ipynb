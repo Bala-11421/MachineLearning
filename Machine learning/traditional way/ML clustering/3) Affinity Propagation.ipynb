{
 "cells": [
  {
   "cell_type": "code",
   "execution_count": null,
   "id": "197b8ab2-6ec0-4efc-8692-dc7f9f4022be",
   "metadata": {},
   "outputs": [],
   "source": [
    "import numpy as np\n",
    "import matplotlib.pyplot as plt\n",
    "import pandas as pd"
   ]
  },
  {
   "cell_type": "code",
   "execution_count": null,
   "id": "e337f751-c303-4aa3-aa58-48d2c536fdd5",
   "metadata": {},
   "outputs": [],
   "source": [
    "dataset = pd.read_csv()"
   ]
  },
  {
   "cell_type": "code",
   "execution_count": null,
   "id": "5b2997fe-9980-499e-a3aa-9df3719a09d6",
   "metadata": {},
   "outputs": [],
   "source": [
    "dataset"
   ]
  },
  {
   "cell_type": "code",
   "execution_count": null,
   "id": "ac32dc37-273b-4183-b67f-75f48c000ab7",
   "metadata": {},
   "outputs": [],
   "source": [
    "X = datset.iloc[:,[3,4]].values"
   ]
  },
  {
   "cell_type": "code",
   "execution_count": null,
   "id": "52c914bd-c85b-45c1-9bd9-9386fa845d0d",
   "metadata": {},
   "outputs": [],
   "source": [
    "from sklearn.cluster import AffinityPropagation"
   ]
  },
  {
   "cell_type": "code",
   "execution_count": null,
   "id": "d2bde01e-89d3-4883-8f75-8092fcaf444e",
   "metadata": {},
   "outputs": [],
   "source": []
  },
  {
   "cell_type": "code",
   "execution_count": null,
   "id": "6ce4c454-867f-4709-ab50-af2fa6a301d9",
   "metadata": {},
   "outputs": [],
   "source": [
    "supervised = dataset"
   ]
  },
  {
   "cell_type": "code",
   "execution_count": null,
   "id": "2a59d8e6-3d78-4a7d-a2d0-d02a8fade5e9",
   "metadata": {},
   "outputs": [],
   "source": [
    "supervised['clusters_group'] = y_kmeans"
   ]
  },
  {
   "cell_type": "code",
   "execution_count": null,
   "id": "7414dd3a-cf3a-40b1-98fb-4eb99ba51bdf",
   "metadata": {},
   "outputs": [],
   "source": [
    "supervised"
   ]
  },
  {
   "cell_type": "code",
   "execution_count": null,
   "id": "b65db14b-fb9c-434a-94d8-8d864202bacf",
   "metadata": {},
   "outputs": [],
   "source": [
    "supervised.to_csv(\"cluster.csv\",index = False)"
   ]
  },
  {
   "cell_type": "code",
   "execution_count": null,
   "id": "8fdbabf3-a766-4816-8ccf-74ed898ba82a",
   "metadata": {},
   "outputs": [],
   "source": [
    "centroids = kmeans.cluster_centers_"
   ]
  },
  {
   "cell_type": "code",
   "execution_count": null,
   "id": "49ff2fff-1600-4c58-9098-4fb2cf4c2f81",
   "metadata": {},
   "outputs": [],
   "source": [
    "centroids"
   ]
  },
  {
   "cell_type": "code",
   "execution_count": null,
   "id": "d818e285-0b4b-4314-92f7-107a40928676",
   "metadata": {},
   "outputs": [],
   "source": []
  },
  {
   "cell_type": "code",
   "execution_count": null,
   "id": "04431371-9b4f-4ea6-86a9-6a8af12db075",
   "metadata": {},
   "outputs": [],
   "source": []
  },
  {
   "cell_type": "code",
   "execution_count": null,
   "id": "6758c606-680b-4e90-9cc5-b0d34aaa88c3",
   "metadata": {},
   "outputs": [],
   "source": [
    "import seaborn as sns\n",
    "facet = sns.lmplot(data=supervised, X=supervised.columns[3], y=supervised.columns[4], hue=supervised.columns[5], \n",
    "                  fit_reg= False, legend = True, legend_out = True)"
   ]
  }
 ],
 "metadata": {
  "kernelspec": {
   "display_name": "Python 3 (ipykernel)",
   "language": "python",
   "name": "python3"
  },
  "language_info": {
   "codemirror_mode": {
    "name": "ipython",
    "version": 3
   },
   "file_extension": ".py",
   "mimetype": "text/x-python",
   "name": "python",
   "nbconvert_exporter": "python",
   "pygments_lexer": "ipython3",
   "version": "3.10.14"
  }
 },
 "nbformat": 4,
 "nbformat_minor": 5
}
