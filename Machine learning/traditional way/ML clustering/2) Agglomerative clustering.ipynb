{
 "cells": [
  {
   "cell_type": "code",
   "execution_count": null,
   "id": "6705c78d-5d02-4b39-8664-fe8a8487ff77",
   "metadata": {},
   "outputs": [],
   "source": [
    "import numpy as np\n",
    "import matplotlib.pyplot as plt\n",
    "import pandas as pd"
   ]
  },
  {
   "cell_type": "code",
   "execution_count": null,
   "id": "46d6c155-1885-4010-9dcb-92ece915099c",
   "metadata": {},
   "outputs": [],
   "source": [
    "dataset = pd.read_csv()"
   ]
  },
  {
   "cell_type": "code",
   "execution_count": null,
   "id": "a5f3e622-d389-4274-bee4-b060bca4efa8",
   "metadata": {},
   "outputs": [],
   "source": [
    "dataset"
   ]
  },
  {
   "cell_type": "code",
   "execution_count": null,
   "id": "1390ae4a-4674-43a4-85e1-57df2d7a36d2",
   "metadata": {},
   "outputs": [],
   "source": [
    "X = datset.iloc[:,[3,4]].values"
   ]
  },
  {
   "cell_type": "code",
   "execution_count": null,
   "id": "417ba273-3803-463b-9834-1a3b668b10f1",
   "metadata": {},
   "outputs": [],
   "source": [
    "import scipy.cluster.hierarchy as sch\n",
    "dendrogram = sch.dendrogram(sch.linkage(X,method = 'ward'))\n",
    "plt.title('dendrogram')\n",
    "plt.xlabel('customers')\n",
    "plt.ylabel('Euclidean distances')\n",
    "plt.show()"
   ]
  },
  {
   "cell_type": "code",
   "execution_count": null,
   "id": "c91a2056-dafa-4af0-bc0f-7709ae050915",
   "metadata": {},
   "outputs": [],
   "source": [
    "from sklearn.cluster import AgglomerativeClustering"
   ]
  },
  {
   "cell_type": "code",
   "execution_count": null,
   "id": "a476390a-c67b-436e-b6e8-f5ecec1fd1eb",
   "metadata": {},
   "outputs": [],
   "source": [
    "clusmodel = AgglomerativeClustering(n_clusters = 5)\n",
    "label = clusmodel.fit_predict(X)\n"
   ]
  },
  {
   "cell_type": "code",
   "execution_count": null,
   "id": "b5844a3e-cb5f-4f9c-b4e8-502b5bf4f760",
   "metadata": {},
   "outputs": [],
   "source": [
    "supervised = pd.Dataframe(dataset)"
   ]
  },
  {
   "cell_type": "code",
   "execution_count": null,
   "id": "c5f807fe-0ab4-401f-9ced-30df29aed3d8",
   "metadata": {},
   "outputs": [],
   "source": [
    "supervised['clusters_group'] = label"
   ]
  },
  {
   "cell_type": "code",
   "execution_count": null,
   "id": "7fddb99b-a214-4b66-b125-1f356fa0901c",
   "metadata": {},
   "outputs": [],
   "source": [
    "supervised"
   ]
  },
  {
   "cell_type": "code",
   "execution_count": null,
   "id": "57a500c8-e660-4eb0-b8a5-bcc930a5d1e2",
   "metadata": {},
   "outputs": [],
   "source": [
    "import seaborn as sns\n",
    "facet = sns.lmplot(data=supervised, X=supervised.columns[3], y=supervised.columns[4], hue=supervised.columns[5], \n",
    "                  fit_reg= False, legend = True, legend_out = True)"
   ]
  },
  {
   "cell_type": "code",
   "execution_count": null,
   "id": "55aaabfb-006d-4a86-ae13-552ad20e6ecb",
   "metadata": {},
   "outputs": [],
   "source": []
  },
  {
   "cell_type": "code",
   "execution_count": null,
   "id": "9e628963-0fde-401c-9b70-2d4ed2fd70b4",
   "metadata": {},
   "outputs": [],
   "source": []
  },
  {
   "cell_type": "code",
   "execution_count": null,
   "id": "f15111e9-cfd8-46d7-bd1d-1f992da03779",
   "metadata": {},
   "outputs": [],
   "source": []
  },
  {
   "cell_type": "code",
   "execution_count": null,
   "id": "49c2566c-33f3-429b-8801-171cf64b8dc8",
   "metadata": {},
   "outputs": [],
   "source": []
  },
  {
   "cell_type": "code",
   "execution_count": null,
   "id": "d0c5090e-ee86-45fa-baa7-15c337e14055",
   "metadata": {},
   "outputs": [],
   "source": []
  },
  {
   "cell_type": "code",
   "execution_count": null,
   "id": "32bb9c5a-8e8f-48ad-a072-c5bd2750d015",
   "metadata": {},
   "outputs": [],
   "source": []
  },
  {
   "cell_type": "code",
   "execution_count": null,
   "id": "7aebf822-1782-4652-9319-63dede13e194",
   "metadata": {},
   "outputs": [],
   "source": []
  }
 ],
 "metadata": {
  "kernelspec": {
   "display_name": "Python 3 (ipykernel)",
   "language": "python",
   "name": "python3"
  },
  "language_info": {
   "codemirror_mode": {
    "name": "ipython",
    "version": 3
   },
   "file_extension": ".py",
   "mimetype": "text/x-python",
   "name": "python",
   "nbconvert_exporter": "python",
   "pygments_lexer": "ipython3",
   "version": "3.10.14"
  }
 },
 "nbformat": 4,
 "nbformat_minor": 5
}
