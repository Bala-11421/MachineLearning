{
 "cells": [
  {
   "cell_type": "code",
   "execution_count": null,
   "id": "6dec356d-ba18-4e70-a3df-fa6b6fed6de5",
   "metadata": {},
   "outputs": [],
   "source": [
    "import numpy as np\n",
    "import matplotlib.pyplot as plt\n",
    "import pandas as pd"
   ]
  },
  {
   "cell_type": "code",
   "execution_count": 1,
   "id": "61df1f52-36ce-41a5-a9c1-523c544d30a1",
   "metadata": {},
   "outputs": [
    {
     "ename": "NameError",
     "evalue": "name 'pd' is not defined",
     "output_type": "error",
     "traceback": [
      "\u001b[1;31m---------------------------------------------------------------------------\u001b[0m",
      "\u001b[1;31mNameError\u001b[0m                                 Traceback (most recent call last)",
      "Cell \u001b[1;32mIn[1], line 1\u001b[0m\n\u001b[1;32m----> 1\u001b[0m dataset \u001b[38;5;241m=\u001b[39m \u001b[43mpd\u001b[49m\u001b[38;5;241m.\u001b[39mread_csv()\n",
      "\u001b[1;31mNameError\u001b[0m: name 'pd' is not defined"
     ]
    }
   ],
   "source": [
    "dataset = pd.read_csv()"
   ]
  },
  {
   "cell_type": "code",
   "execution_count": null,
   "id": "28588ab9-1a95-46fd-ad55-e8af279971d2",
   "metadata": {},
   "outputs": [],
   "source": [
    "dataset"
   ]
  },
  {
   "cell_type": "code",
   "execution_count": null,
   "id": "f840eead-c4cd-4a32-be29-5fa8fb4b7151",
   "metadata": {},
   "outputs": [],
   "source": [
    "X = datset.iloc[:,[3,4]].values"
   ]
  },
  {
   "cell_type": "code",
   "execution_count": null,
   "id": "a323528e-15e6-4918-8fb7-e7301d3e4a7c",
   "metadata": {},
   "outputs": [],
   "source": [
    "from sklearn.metrics import KMeans\n",
    "list1 = []\n",
    "for i in range(1,11):\n",
    "    kmeans = Kmeans(n_clusters = i, init = 'k-means++', random_state = 42)\n",
    "    kmeans.fit(X)\n",
    "    list1.append(kmeans.inertia_)\n",
    "plt.plot(range(1.11),list1)\n",
    "plt.title(\" the elbow method)\n",
    "plt.xlabel(\"number of cluters\")\n",
    "plt.ylabel(\"WCSS\")\n",
    "plt.show()"
   ]
  },
  {
   "cell_type": "code",
   "execution_count": null,
   "id": "3a8ed206-f098-4d16-ad3f-a7f6fb085622",
   "metadata": {},
   "outputs": [],
   "source": [
    "from sklearn.metrics import KMeans\n",
    "kmeans = Kmeans(n_clusters = i, init = 'k-means++', random_state = 42)\n",
    "y_means = kmeans.fit_predict(X)"
   ]
  },
  {
   "cell_type": "code",
   "execution_count": null,
   "id": "02aeaa87-fedb-4f67-bef2-6faa74c4d491",
   "metadata": {},
   "outputs": [],
   "source": [
    "y_kmeans"
   ]
  },
  {
   "cell_type": "code",
   "execution_count": null,
   "id": "e62c109d-8b6f-4beb-ad08-adb5ad9e8fb8",
   "metadata": {},
   "outputs": [],
   "source": [
    "supervised = dataset"
   ]
  },
  {
   "cell_type": "code",
   "execution_count": null,
   "id": "7824f129-ad3e-42f9-bff8-a5577cb6c8ee",
   "metadata": {},
   "outputs": [],
   "source": [
    "supervised['clusters_group'] = y_kmeans"
   ]
  },
  {
   "cell_type": "code",
   "execution_count": null,
   "id": "44406d1f-5f06-4ebd-962d-074a1cef0443",
   "metadata": {},
   "outputs": [],
   "source": [
    "supervised"
   ]
  },
  {
   "cell_type": "code",
   "execution_count": null,
   "id": "070e4718-212e-4825-bb0f-124e1048d960",
   "metadata": {},
   "outputs": [],
   "source": [
    "supervised.to_csv(\"cluster.csv\",index = False)"
   ]
  },
  {
   "cell_type": "code",
   "execution_count": null,
   "id": "1b955036-b13b-42fb-a1dc-6675237fa62a",
   "metadata": {},
   "outputs": [],
   "source": [
    "centroids = kmeans.cluster_centers_"
   ]
  },
  {
   "cell_type": "code",
   "execution_count": null,
   "id": "fb7d7add-2a29-4166-9dc1-c95bf234de71",
   "metadata": {},
   "outputs": [],
   "source": [
    "centroids"
   ]
  },
  {
   "cell_type": "code",
   "execution_count": null,
   "id": "fac74fda-3047-4146-8367-7ec620efdd56",
   "metadata": {},
   "outputs": [],
   "source": [
    "y_kmeans"
   ]
  },
  {
   "cell_type": "code",
   "execution_count": null,
   "id": "85757519-b794-444e-84ff-93c7c5e921e8",
   "metadata": {},
   "outputs": [],
   "source": [
    "import seaborn as sns\n",
    "facet = sns.lmplot(data=supervised, X=supervised.columns[3], y=supervised.columns[4], hue=supervised.columns[5], \n",
    "                  fit_reg= False, legend = True, legend_out = True)"
   ]
  },
  {
   "cell_type": "code",
   "execution_count": null,
   "id": "9c1194d2-809f-47af-9a3e-a26775bb0d68",
   "metadata": {},
   "outputs": [],
   "source": []
  },
  {
   "cell_type": "code",
   "execution_count": null,
   "id": "1dcd9dc1-9c4f-4def-9e76-bb4801830b58",
   "metadata": {},
   "outputs": [],
   "source": []
  },
  {
   "cell_type": "code",
   "execution_count": null,
   "id": "8b0ed279-8240-46a4-8ae0-6b504e711374",
   "metadata": {},
   "outputs": [],
   "source": []
  }
 ],
 "metadata": {
  "kernelspec": {
   "display_name": "Python 3 (ipykernel)",
   "language": "python",
   "name": "python3"
  },
  "language_info": {
   "codemirror_mode": {
    "name": "ipython",
    "version": 3
   },
   "file_extension": ".py",
   "mimetype": "text/x-python",
   "name": "python",
   "nbconvert_exporter": "python",
   "pygments_lexer": "ipython3",
   "version": "3.10.14"
  }
 },
 "nbformat": 4,
 "nbformat_minor": 5
}
